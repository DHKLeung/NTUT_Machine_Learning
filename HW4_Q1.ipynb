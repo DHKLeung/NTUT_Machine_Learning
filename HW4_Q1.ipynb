{
 "cells": [
  {
   "cell_type": "code",
   "execution_count": 1,
   "metadata": {},
   "outputs": [],
   "source": [
    "import numpy as np"
   ]
  },
  {
   "cell_type": "code",
   "execution_count": 2,
   "metadata": {},
   "outputs": [],
   "source": [
    "def learning_rate(t):\n",
    "    eta_0 = 0.1\n",
    "    sigma_0 = 0.1\n",
    "    lamb = 10.\n",
    "    eta = eta_0 * np.exp(t / lamb)\n",
    "    sigma = sigma_0 * np.exp(-(t / lamb))\n",
    "    gamma = np.exp(-(1 / (2 * sigma**2)))\n",
    "    lr = eta * gamma\n",
    "    return lr"
   ]
  },
  {
   "cell_type": "code",
   "execution_count": 3,
   "metadata": {},
   "outputs": [
    {
     "name": "stdout",
     "output_type": "stream",
     "text": [
      "t = 1, learning rate = 3.318986956663983e-28\n",
      "t = 2, learning rate = 4.9237635474066944e-34\n",
      "t = 3, learning rate = 3.6600020233331726e-41\n",
      "t = 4, learning rate = 7.026039192832359e-50\n",
      "t = 5, learning rate = 1.550269929287323e-60\n",
      "t = 6, learning rate = 1.462694903717886e-73\n",
      "t = 7, learning rate = 1.7638339865845787e-89\n",
      "t = 8, learning rate = 6.218749388550233e-109\n",
      "t = 9, learning rate = 1.057887464553933e-132\n",
      "t = 10, learning rate = 9.615679289785645e-162\n"
     ]
    }
   ],
   "source": [
    "for i in range(1, 11):\n",
    "    print('t = {}, learning rate = {}'.format(i, learning_rate(i)))"
   ]
  }
 ],
 "metadata": {
  "kernelspec": {
   "display_name": "Python 3",
   "language": "python",
   "name": "python3"
  },
  "language_info": {
   "codemirror_mode": {
    "name": "ipython",
    "version": 3
   },
   "file_extension": ".py",
   "mimetype": "text/x-python",
   "name": "python",
   "nbconvert_exporter": "python",
   "pygments_lexer": "ipython3",
   "version": "3.6.2"
  }
 },
 "nbformat": 4,
 "nbformat_minor": 2
}
