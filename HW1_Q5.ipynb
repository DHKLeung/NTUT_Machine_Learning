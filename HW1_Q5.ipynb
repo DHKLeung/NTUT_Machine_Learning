{
 "cells": [
  {
   "cell_type": "code",
   "execution_count": 1,
   "metadata": {},
   "outputs": [],
   "source": [
    "import numpy as np\n",
    "import matplotlib.pyplot as plt\n",
    "import pandas as pd"
   ]
  },
  {
   "cell_type": "code",
   "execution_count": 2,
   "metadata": {},
   "outputs": [],
   "source": [
    "\"\"\"\n",
    "Load UCI ML Iris data\n",
    "Return: data(shape = (150, 4)) and labels(shape = (150, 1)) in numpy array(rank 2)\n",
    "\"\"\"\n",
    "def load_data(classes):\n",
    "    data = pd.read_csv('Iris.csv', index_col=0).as_matrix()\n",
    "    features = data[:, :-1]\n",
    "    labels = data[:, -1].reshape(-1, 1)\n",
    "    for class_id in classes:\n",
    "        labels[labels == class_id[0]] = class_id[1]\n",
    "    return features.astype(np.float32), labels.astype(np.float32)"
   ]
  },
  {
   "cell_type": "code",
   "execution_count": 3,
   "metadata": {},
   "outputs": [],
   "source": [
    "\"\"\"\n",
    "Perform Data Shuffling\n",
    "Return: shuffled features and labels\n",
    "\"\"\"\n",
    "def data_shuffling(features, labels):\n",
    "    shuffle_array = np.random.permutation(features.shape[0])\n",
    "    features = features[shuffle_array]\n",
    "    labels = labels[shuffle_array]\n",
    "    return features, labels"
   ]
  },
  {
   "cell_type": "code",
   "execution_count": 4,
   "metadata": {},
   "outputs": [],
   "source": [
    "\"\"\"\n",
    "Splitting the data into train and test set\n",
    "Variable: ratio = percentage of data for train set\n",
    "Return: train set and test set\n",
    "\"\"\"\n",
    "def data_split(features, labels, ratio=0.7):\n",
    "    train_end_index = np.ceil(features.shape[0] * 0.7).astype(np.int32)\n",
    "    train_features = features[:train_end_index]\n",
    "    train_labels = labels[:train_end_index]\n",
    "    test_features = features[train_end_index:]\n",
    "    test_labels = labels[train_end_index:]\n",
    "    return train_features, train_labels, test_features, test_labels"
   ]
  },
  {
   "cell_type": "code",
   "execution_count": 5,
   "metadata": {},
   "outputs": [],
   "source": [
    "\"\"\"\n",
    "Compute the probability density using gaussian distribution\n",
    "\"\"\"\n",
    "def get_prob_den(x, sample_var, mean):\n",
    "    prob_den = (1 / np.sqrt(2 * np.pi * sample_var)) * np.exp(-np.square(x - mean)/(2 * sample_var))\n",
    "    return prob_den"
   ]
  },
  {
   "cell_type": "code",
   "execution_count": 6,
   "metadata": {},
   "outputs": [],
   "source": [
    "\"\"\"\n",
    "Build Naive Bayes Classifier and preform inferencing\n",
    "Return: predictions to test set\n",
    "\"\"\"\n",
    "def naive_bayes_classifier(train_features, train_labels, test_features):\n",
    "    p_c = {}\n",
    "    var = {}\n",
    "    mean = {}\n",
    "    for i in range(3):\n",
    "        p_c[str(i)] = np.sum((train_labels[:, 0] == np.float(i)).astype(np.int32)) / train_labels.shape[0]\n",
    "        for j in range(4):\n",
    "            var['c{}x{}'.format(i, j + 1)] = np.var(train_features[train_labels[:, 0] == np.float(i)][:, j]) * train_features.shape[0] / (train_features.shape[0] - 1) #sample variance\n",
    "            mean['c{}x{}'.format(i, j + 1)] = np.mean(train_features[train_labels[:, 0] == np.float(i)][:, j])\n",
    "    predictions = []\n",
    "    for k in range(test_features.shape[0]):\n",
    "        probs = []\n",
    "        for i in range(3):\n",
    "            prob = p_c[str(i)]\n",
    "            for j in range(4):\n",
    "                prob *= get_prob_den(test_features[k, j], var['c{}x{}'.format(i, j + 1)], mean['c{}x{}'.format(i, j + 1)])\n",
    "            probs.append(prob)\n",
    "        predict = np.argmax(probs)\n",
    "        predictions.append((predict))\n",
    "    predictions = np.array(predictions).reshape(-1, 1)\n",
    "    return predictions"
   ]
  },
  {
   "cell_type": "code",
   "execution_count": 7,
   "metadata": {},
   "outputs": [],
   "source": [
    "\"\"\"\n",
    "Settings\n",
    "\"\"\"\n",
    "classes = [('Iris-setosa', 0), ('Iris-versicolor', 1), ('Iris-virginica', 2)]\n",
    "cross_val_times = 1000"
   ]
  },
  {
   "cell_type": "code",
   "execution_count": 8,
   "metadata": {},
   "outputs": [
    {
     "name": "stdout",
     "output_type": "stream",
     "text": [
      "Accuracy (1000 times average): 0.9552444471120919\n"
     ]
    }
   ],
   "source": [
    "features, labels = load_data(classes)\n",
    "accuracy = 0.\n",
    "for i in range(cross_val_times):\n",
    "    features, labels = data_shuffling(features, labels)\n",
    "    train_features, train_labels, test_features, test_labels = data_split(features, labels)\n",
    "    predictions = naive_bayes_classifier(train_features, train_labels, test_features)\n",
    "    accuracy += np.mean((predictions == test_labels).astype(np.float32)) / cross_val_times\n",
    "print('Accuracy ({} times average): {}'.format(cross_val_times, accuracy))"
   ]
  }
 ],
 "metadata": {
  "kernelspec": {
   "display_name": "Python 3",
   "language": "python",
   "name": "python3"
  },
  "language_info": {
   "codemirror_mode": {
    "name": "ipython",
    "version": 3
   },
   "file_extension": ".py",
   "mimetype": "text/x-python",
   "name": "python",
   "nbconvert_exporter": "python",
   "pygments_lexer": "ipython3",
   "version": "3.6.2"
  }
 },
 "nbformat": 4,
 "nbformat_minor": 2
}
