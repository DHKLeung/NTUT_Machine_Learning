{
 "cells": [
  {
   "cell_type": "code",
   "execution_count": 1,
   "metadata": {},
   "outputs": [],
   "source": [
    "import numpy as np"
   ]
  },
  {
   "cell_type": "code",
   "execution_count": 2,
   "metadata": {},
   "outputs": [],
   "source": [
    "\"\"\"\n",
    "Create data for decision tree\n",
    "\"\"\"\n",
    "def create_data(discrete=False):\n",
    "    feature_name = np.array(['outlook', 'temperature', 'humidity', 'windy'])\n",
    "    data = np.array([\n",
    "        [1., 85., 85., 0.],\n",
    "        [1., 80., 90., 1.],\n",
    "        [2., 83., 78., 0.],\n",
    "        [3., 70., 96., 0.],\n",
    "        [3., 68., 80., 0.],\n",
    "        [3., 65., 70., 1.],\n",
    "        [2., 64., 65., 1.],\n",
    "        [1., 72., 95., 0.],\n",
    "        [1., 69., 70., 0.],\n",
    "        [3., 75., 80., 0.],\n",
    "        [1., 75., 70., 1.],\n",
    "        [2., 72., 90., 1.],\n",
    "        [2., 81., 75., 0.],\n",
    "        [3., 71., 80., 1.]\n",
    "    ])\n",
    "    if discrete:\n",
    "        data[:, 1][data[:, 1] < 70] = 1.\n",
    "        data[:, 1][np.logical_and(70. <= data[:, 1],data[:, 1] <= 79.)] = 2.\n",
    "        data[:, 1][data[:, 1] >= 80.] = 3.\n",
    "        data[:, 2][data[:, 2] < 76] = 1.\n",
    "        data[:, 2][data[:, 2] >= 76] = 2.\n",
    "    label = np.array([\n",
    "        [0.],\n",
    "        [0.],\n",
    "        [1.],\n",
    "        [1.],\n",
    "        [1.],\n",
    "        [0.],\n",
    "        [1.],\n",
    "        [0.],\n",
    "        [1.],\n",
    "        [1.],\n",
    "        [1.],\n",
    "        [1.],\n",
    "        [1.],\n",
    "        [0.]\n",
    "    ])\n",
    "    return data.astype(np.float32), label.astype(np.float32), feature_name"
   ]
  },
  {
   "cell_type": "code",
   "execution_count": 3,
   "metadata": {},
   "outputs": [],
   "source": [
    "\"\"\"\n",
    "Compute the entropy\n",
    "\"\"\"\n",
    "def get_entropy(label):\n",
    "    distinct_label, count = np.unique(np.squeeze(label), return_counts=True)\n",
    "    p = np.divide(count, np.sum(count))\n",
    "    entropy = -np.sum(np.multiply(p, np.log2(p)))\n",
    "    return entropy"
   ]
  },
  {
   "cell_type": "code",
   "execution_count": 4,
   "metadata": {},
   "outputs": [],
   "source": [
    "\"\"\"\n",
    "Select the best feature for splitting\n",
    "Return: the index of the best features\n",
    "\"\"\"\n",
    "def get_best_feature(data, label):\n",
    "    num_data = data.shape[0]\n",
    "    num_feature = data.shape[1]\n",
    "    base_entropy = get_entropy(label)\n",
    "    information_gains_ratio = np.zeros((num_feature))\n",
    "    for i in range(num_feature):\n",
    "        unique_feature, unique_count = np.unique(data[:, i], return_counts=True)\n",
    "        feature_entropy = 0.\n",
    "        for j in range(unique_feature.shape[0]):\n",
    "            temp_label = label[data[:, i] == unique_feature[j]]\n",
    "            p_feature = temp_label.shape[0] / num_data\n",
    "            feature_entropy += p_feature * get_entropy(temp_label)\n",
    "        information_gains_ratio[i] = (base_entropy - feature_entropy) / get_entropy(data[:, i])\n",
    "    return np.argmax(information_gains_ratio)"
   ]
  },
  {
   "cell_type": "code",
   "execution_count": 5,
   "metadata": {},
   "outputs": [],
   "source": [
    "\"\"\"\n",
    "Create decision tree\n",
    "\"\"\"\n",
    "def create_tree(tree, data, label, feature_name, pre_feature='Root', pre_value='Root'):\n",
    "    #Check if the data subset of the current node is pure#\n",
    "    if np.unique(label).shape[0] == 1:\n",
    "        return np.squeeze(label)[0]\n",
    "    \n",
    "    #Get the best feature for splitting#\n",
    "    index_best_feature = get_best_feature(data, label)\n",
    "    values = np.unique(data[:, index_best_feature])\n",
    "    \n",
    "    #Create the tree layer in depth first#\n",
    "    for value in values:\n",
    "        split_feature_name = feature_name[index_best_feature]\n",
    "        temp = data[data[:, index_best_feature] == value]\n",
    "        new_data = np.append(temp[:, :index_best_feature], temp[:, index_best_feature + 1:], axis=1)\n",
    "        new_label = label[data[:, index_best_feature] == value]\n",
    "        new_feature_name = np.append(feature_name[0:index_best_feature], feature_name[index_best_feature + 1:])\n",
    "        subtree = create_tree(list(), new_data, new_label, new_feature_name, pre_feature=split_feature_name, pre_value=str(value))\n",
    "        tree.append(((split_feature_name, value), subtree))\n",
    "    return tree"
   ]
  },
  {
   "cell_type": "code",
   "execution_count": 6,
   "metadata": {},
   "outputs": [
    {
     "data": {
      "text/plain": [
       "[(('outlook', 1.0), [(('humidity', 1.0), 1.0), (('humidity', 2.0), 0.0)]),\n",
       " (('outlook', 2.0), 1.0),\n",
       " (('outlook', 3.0), [(('windy', 0.0), 1.0), (('windy', 1.0), 0.0)])]"
      ]
     },
     "execution_count": 6,
     "metadata": {},
     "output_type": "execute_result"
    }
   ],
   "source": [
    "data, label, feature_name = create_data(discrete=True)\n",
    "tree = create_tree(list(), data, label, feature_name)\n",
    "tree"
   ]
  }
 ],
 "metadata": {
  "kernelspec": {
   "display_name": "Python 3",
   "language": "python",
   "name": "python3"
  },
  "language_info": {
   "codemirror_mode": {
    "name": "ipython",
    "version": 3
   },
   "file_extension": ".py",
   "mimetype": "text/x-python",
   "name": "python",
   "nbconvert_exporter": "python",
   "pygments_lexer": "ipython3",
   "version": "3.5.2"
  }
 },
 "nbformat": 4,
 "nbformat_minor": 2
}
