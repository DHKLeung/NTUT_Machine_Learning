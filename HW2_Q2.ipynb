{
 "cells": [
  {
   "cell_type": "code",
   "execution_count": 1,
   "metadata": {},
   "outputs": [],
   "source": [
    "import numpy as np\n",
    "import pandas as pd"
   ]
  },
  {
   "cell_type": "code",
   "execution_count": 2,
   "metadata": {},
   "outputs": [],
   "source": [
    "\"\"\"\n",
    "Load UCI ML Iris data\n",
    "Return: data(shape = (150, 4)) and labels(shape = (150, 1)) in numpy array(rank 2)\n",
    "\"\"\"\n",
    "def load_data(classes):\n",
    "    data = pd.read_csv('Iris.csv', index_col=0).as_matrix()\n",
    "    features = data[:, :-1]\n",
    "    labels = data[:, -1].reshape(-1, 1)\n",
    "    for class_id in classes:\n",
    "        labels[labels == class_id[0]] = class_id[1]\n",
    "    return features.astype(np.float32), labels.astype(np.float32)"
   ]
  },
  {
   "cell_type": "code",
   "execution_count": 3,
   "metadata": {},
   "outputs": [],
   "source": [
    "\"\"\"\n",
    "Compute the condition number\n",
    "Return: condition number\n",
    "\"\"\"\n",
    "def get_condnum(M):\n",
    "    eigvals = np.linalg.eigvals(M)\n",
    "    return np.fabs(np.amax(eigvals) / np.amin(eigvals))"
   ]
  },
  {
   "cell_type": "code",
   "execution_count": 4,
   "metadata": {},
   "outputs": [
    {
     "name": "stdout",
     "output_type": "stream",
     "text": [
      "[25.37391450629237, 49.832063916410355, 20.29001629283431]\n"
     ]
    }
   ],
   "source": [
    "classes = [('Iris-setosa', 0), ('Iris-versicolor', 1), ('Iris-virginica', 2)]\n",
    "features, labels = load_data(classes)\n",
    "covs = []\n",
    "condnums = []\n",
    "for i in range(3):\n",
    "    target_features = features[np.squeeze(labels == float(i))]\n",
    "    covs.append(np.cov(target_features.T))\n",
    "    condnums.append(get_condnum(covs[i]))\n",
    "print(condnums)"
   ]
  }
 ],
 "metadata": {
  "kernelspec": {
   "display_name": "Python 3",
   "language": "python",
   "name": "python3"
  },
  "language_info": {
   "codemirror_mode": {
    "name": "ipython",
    "version": 3
   },
   "file_extension": ".py",
   "mimetype": "text/x-python",
   "name": "python",
   "nbconvert_exporter": "python",
   "pygments_lexer": "ipython3",
   "version": "3.5.2"
  }
 },
 "nbformat": 4,
 "nbformat_minor": 2
}
