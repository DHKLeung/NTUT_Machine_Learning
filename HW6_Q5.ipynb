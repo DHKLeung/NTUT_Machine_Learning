{
 "cells": [
  {
   "cell_type": "code",
   "execution_count": 1,
   "metadata": {},
   "outputs": [],
   "source": [
    "import numpy as np"
   ]
  },
  {
   "cell_type": "code",
   "execution_count": 2,
   "metadata": {},
   "outputs": [],
   "source": [
    "def zero_interpolation(A):\n",
    "    length = A.shape[0] + A.shape[0] - 1\n",
    "    new_A = np.zeros((length, length), dtype=np.float32)\n",
    "    i_A = j_A = 0\n",
    "    for i in range(length):\n",
    "        for j in range(length):\n",
    "            if (i + 1) % 2 == 1 and (j + 1) % 2 == 1:\n",
    "                new_A[i, j] = A[i_A, j_A]\n",
    "                j_A += 1\n",
    "                if j_A % A.shape[0] == 0:\n",
    "                    j_A = 0\n",
    "                    i_A += 1\n",
    "    return new_A"
   ]
  },
  {
   "cell_type": "code",
   "execution_count": 3,
   "metadata": {},
   "outputs": [],
   "source": [
    "def conv(A, K):\n",
    "    length = A.shape[0] - K.shape[0] + 1\n",
    "    kernel_size = K.shape[0]\n",
    "    F = np.zeros((length, length), dtype=np.float32)\n",
    "    for i in range(length):\n",
    "        for j in range(length):\n",
    "            F[i, j] = np.sum(np.multiply(A[i:i + kernel_size, j: j + kernel_size], K))\n",
    "    return F"
   ]
  },
  {
   "cell_type": "code",
   "execution_count": 4,
   "metadata": {},
   "outputs": [],
   "source": [
    "def subpixel_convolution(A, K):\n",
    "    A = zero_interpolation(A)\n",
    "    pad_size = K.shape[0] - 1\n",
    "    A = np.pad(A, (pad_size, pad_size), 'constant', constant_values=0)\n",
    "    A = conv(A, K)\n",
    "    return A"
   ]
  },
  {
   "cell_type": "code",
   "execution_count": 5,
   "metadata": {},
   "outputs": [],
   "source": [
    "def ReLU(A):\n",
    "    return np.abs(np.multiply(A, (A >= 0.).astype(np.float32)))"
   ]
  },
  {
   "cell_type": "code",
   "execution_count": 6,
   "metadata": {},
   "outputs": [],
   "source": [
    "A = np.array([\n",
    "    [6, 0, -4, 0, 1],\n",
    "    [4, 4, 0, 2, 1],\n",
    "    [3, -7, 1, 4, 2],\n",
    "    [-2, 2, 1, -4, 2],\n",
    "    [5, 1, 2, 4, -1]\n",
    "], dtype=np.float32)\n",
    "K = np.array([\n",
    "    [3, -1, 2],\n",
    "    [-2, 1, -3],\n",
    "    [-2, 0, 3]\n",
    "], dtype=np.float32)"
   ]
  },
  {
   "cell_type": "code",
   "execution_count": 7,
   "metadata": {},
   "outputs": [
    {
     "name": "stdout",
     "output_type": "stream",
     "text": [
      "[[18.  0.  0.  0.  0.  0.  8.  0.  3.  0.  0.]\n",
      " [ 0.  6.  0.  0. 12.  0.  8.  0.  0.  1.  0.]\n",
      " [24.  0. 22.  0.  0.  4.  0.  0.  1.  0.  1.]\n",
      " [ 0.  4.  0.  4.  0.  0.  0.  2.  0.  1.  0.]\n",
      " [17.  0.  0.  0. 29.  0. 14.  0.  6.  0.  0.]\n",
      " [ 0.  3. 15.  0. 11.  1.  0.  4.  0.  2.  0.]\n",
      " [ 0.  0.  5.  7.  0.  0.  0.  0. 30.  0.  2.]\n",
      " [ 6.  0.  0.  2.  0.  1. 10.  0.  2.  2.  0.]\n",
      " [11.  2.  0.  0. 12.  0.  3.  4.  0.  0.  8.]\n",
      " [ 0.  5.  0.  1.  0.  2.  0.  4.  0.  0.  2.]\n",
      " [10.  0. 17.  0.  7.  0. 14.  0. 10.  1.  0.]]\n"
     ]
    }
   ],
   "source": [
    "A = subpixel_convolution(A, K)\n",
    "A = ReLU(A)\n",
    "print(A)"
   ]
  }
 ],
 "metadata": {
  "kernelspec": {
   "display_name": "Python 3",
   "language": "python",
   "name": "python3"
  },
  "language_info": {
   "codemirror_mode": {
    "name": "ipython",
    "version": 3
   },
   "file_extension": ".py",
   "mimetype": "text/x-python",
   "name": "python",
   "nbconvert_exporter": "python",
   "pygments_lexer": "ipython3",
   "version": "3.6.2"
  }
 },
 "nbformat": 4,
 "nbformat_minor": 2
}
