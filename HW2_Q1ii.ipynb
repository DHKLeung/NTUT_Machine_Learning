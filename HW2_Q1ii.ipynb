{
 "cells": [
  {
   "cell_type": "code",
   "execution_count": 1,
   "metadata": {},
   "outputs": [
    {
     "name": "stderr",
     "output_type": "stream",
     "text": [
      "/usr/local/lib/python3.5/dist-packages/h5py/__init__.py:36: FutureWarning: Conversion of the second argument of issubdtype from `float` to `np.floating` is deprecated. In future, it will be treated as `np.float64 == np.dtype(float).type`.\n",
      "  from ._conv import register_converters as _register_converters\n"
     ]
    }
   ],
   "source": [
    "import tensorflow as tf\n",
    "import numpy as np\n",
    "import matplotlib.pyplot as plt"
   ]
  },
  {
   "cell_type": "code",
   "execution_count": 2,
   "metadata": {},
   "outputs": [],
   "source": [
    "data = np.random.rand(150, 1) * 2 - 1\n",
    "data = np.append(data, np.power(data[:, 0], 2).reshape(-1, 1), axis=1)\n",
    "data = np.append(data, np.power(data[:, 0], 3).reshape(-1, 1), axis=1)\n",
    "label = (0.5 * data[:, 0] + 0.75 * data[:, 1] + 3 * data[:, 2] + 4).reshape(-1, 1)\n",
    "sortarg = np.argsort(data[:, 0])\n",
    "data = data[sortarg]\n",
    "label = label[sortarg]\n",
    "data_input = tf.placeholder(tf.float32, (None, 3), name='data_input')\n",
    "data_label = tf.placeholder(tf.float32, (None, 1), name='data_label')\n",
    "A1 = tf.contrib.layers.fully_connected(data_input, 1, activation_fn=None, weights_initializer=tf.zeros_initializer(), scope='A1')\n",
    "with tf.variable_scope('A1', reuse=True):\n",
    "    W = tf.get_variable('weights')\n",
    "    B = tf.get_variable('biases')\n",
    "cost_no_reg = tf.losses.mean_squared_error(label, A1)\n",
    "cost_reg = tf.losses.mean_squared_error(label, A1) + 0.01 * tf.reduce_sum(tf.square(W))\n",
    "cost_reg_10 = tf.losses.mean_squared_error(label, A1) + 0.01 * tf.reduce_sum(tf.pow(W, 10))\n",
    "opt_minimize_no_reg = tf.train.GradientDescentOptimizer(learning_rate=0.01).minimize(cost_no_reg)\n",
    "opt_minimize_reg = tf.train.GradientDescentOptimizer(learning_rate=0.01).minimize(cost_reg)\n",
    "opt_minimize_reg_10 = tf.train.GradientDescentOptimizer(learning_rate=0.01).minimize(cost_reg_10)\n",
    "sess = tf.Session()"
   ]
  },
  {
   "cell_type": "code",
   "execution_count": 3,
   "metadata": {},
   "outputs": [
    {
     "name": "stdout",
     "output_type": "stream",
     "text": [
      "[[0.5536899 ]\n",
      " [0.74895734]\n",
      " [2.9137404 ]] [4.0003247]\n"
     ]
    }
   ],
   "source": [
    "sess.run(tf.global_variables_initializer())\n",
    "for i in range(10000):\n",
    "    sess.run(opt_minimize_no_reg, feed_dict={data_input:data, data_label:label})\n",
    "WW = sess.run(W)\n",
    "BB = sess.run(B)\n",
    "AA = np.squeeze(np.dot(data, WW) + BB)\n",
    "print(WW, BB)"
   ]
  },
  {
   "cell_type": "code",
   "execution_count": 4,
   "metadata": {},
   "outputs": [
    {
     "name": "stdout",
     "output_type": "stream",
     "text": [
      "[[0.9394344 ]\n",
      " [0.66210777]\n",
      " [2.2088406 ]] [4.027576]\n"
     ]
    }
   ],
   "source": [
    "sess.run(tf.global_variables_initializer())\n",
    "for i in range(10000):\n",
    "    sess.run(opt_minimize_reg, feed_dict={data_input:data, data_label:label})\n",
    "WW_reg = sess.run(W)\n",
    "BB_reg = sess.run(B)\n",
    "AA_reg = np.squeeze(np.dot(data, WW_reg) + BB_reg)\n",
    "print(WW_reg, BB_reg)"
   ]
  },
  {
   "cell_type": "code",
   "execution_count": 5,
   "metadata": {},
   "outputs": [
    {
     "name": "stdout",
     "output_type": "stream",
     "text": [
      "[[1.1365346]\n",
      " [0.6738426]\n",
      " [1.1156877]] [4.0126557]\n"
     ]
    }
   ],
   "source": [
    "sess.run(tf.global_variables_initializer())\n",
    "for i in range(10000):\n",
    "    sess.run(opt_minimize_reg_10, feed_dict={data_input:data, data_label:label})\n",
    "WW_reg_10 = sess.run(W)\n",
    "BB_reg_10 = sess.run(B)\n",
    "AA_reg_10 = np.squeeze(np.dot(data, WW_reg_10) + BB_reg_10)\n",
    "print(WW_reg_10, BB_reg_10)"
   ]
  },
  {
   "cell_type": "code",
   "execution_count": 6,
   "metadata": {},
   "outputs": [
    {
     "data": {
      "image/png": "[encoded data removed]",
      "text/plain": [
       "<matplotlib.figure.Figure at 0x7f6c1c4ca828>"
      ]
     },
     "metadata": {},
     "output_type": "display_data"
    }
   ],
   "source": [
    "plt.plot(data[:, 0], label, 'bx')\n",
    "plt.plot(data[:, 0], AA, 'r-')\n",
    "plt.plot(data[:, 0], AA_reg, 'g-')\n",
    "plt.plot(data[:, 0], AA_reg_10, 'y-')\n",
    "plt.show()"
   ]
  }
 ],
 "metadata": {
  "kernelspec": {
   "display_name": "Python 3",
   "language": "python",
   "name": "python3"
  },
  "language_info": {
   "codemirror_mode": {
    "name": "ipython",
    "version": 3
   },
   "file_extension": ".py",
   "mimetype": "text/x-python",
   "name": "python",
   "nbconvert_exporter": "python",
   "pygments_lexer": "ipython3",
   "version": "3.5.2"
  }
 },
 "nbformat": 4,
 "nbformat_minor": 2
}
