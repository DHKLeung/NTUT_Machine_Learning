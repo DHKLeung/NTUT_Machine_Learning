{
 "cells": [
  {
   "cell_type": "code",
   "execution_count": 1,
   "metadata": {},
   "outputs": [],
   "source": [
    "import numpy as np\n",
    "import matplotlib.pyplot as plt"
   ]
  },
  {
   "cell_type": "code",
   "execution_count": 2,
   "metadata": {},
   "outputs": [],
   "source": [
    "def conv(input_plane, kernel):\n",
    "    kernel_size = kernel.shape[0]\n",
    "    input_plane_size = input_plane.shape[0]\n",
    "    total_move = input_plane_size - kernel_size + 1\n",
    "    feature_map_before_activation = np.zeros((total_move, total_move))\n",
    "    for i in range(total_move):\n",
    "        for j in range(total_move):\n",
    "            sub_input_plane = input_plane[i:i + total_move, j:j + total_move]\n",
    "            feature_map_before_activation[i, j] = np.sum(np.multiply(sub_input_plane, kernel))\n",
    "    return feature_map_before_activation"
   ]
  },
  {
   "cell_type": "code",
   "execution_count": 3,
   "metadata": {},
   "outputs": [],
   "source": [
    "def relu(feature_map_before_activation):\n",
    "    temp_matrix = (feature_map_before_activation > 0).astype(np.float64)\n",
    "    feature_map = np.abs(np.multiply(feature_map_before_activation, temp_matrix))\n",
    "    return feature_map"
   ]
  },
  {
   "cell_type": "code",
   "execution_count": 4,
   "metadata": {},
   "outputs": [],
   "source": [
    "def create_data():\n",
    "    input_plane_1 = np.array([\n",
    "        [6., 0., -4., 0., 1.],\n",
    "        [4., 4., 0., 2., 1.],\n",
    "        [3., -7., 1., 4., 2.],\n",
    "        [-2., 2., 1., -4., 2.],\n",
    "        [5., 1., 2., 4., -1.]\n",
    "    ])\n",
    "    input_plane_2 = np.array([\n",
    "        [3., 1., -4., 0., -1.],\n",
    "        [3., 0., 3., 4., -1.],\n",
    "        [3., 7., -2, -2, 2.],\n",
    "        [-5., -2., 2., 0., -2],\n",
    "        [2., 1., -1., 1., 2.]\n",
    "    ])\n",
    "    kernel_1 = np.array([\n",
    "        [3., -1, 2.],\n",
    "        [-2., 1., -3.],\n",
    "        [-2., 0., 3.]\n",
    "    ])\n",
    "    kernel_2 = np.array([\n",
    "        [0., -1., 0.],\n",
    "        [-1., 6., -1.],\n",
    "        [0., -1., 0.]\n",
    "    ])\n",
    "    return input_plane_1, input_plane_2, kernel_1, kernel_2"
   ]
  },
  {
   "cell_type": "code",
   "execution_count": 5,
   "metadata": {},
   "outputs": [
    {
     "name": "stdout",
     "output_type": "stream",
     "text": [
      "Sub Feature Map 1 before activation: \n",
      "[[  3.  16.  -7.]\n",
      " [ -1.   3.   0.]\n",
      " [ 17.   5. -16.]]\n",
      "\n",
      "Sub Feature Map 2 before activation: \n",
      "[[-14.  20.  24.]\n",
      " [ 43. -22. -16.]\n",
      " [-17.  17.   1.]]\n",
      "\n",
      "Feature Map before activation: \n",
      "[[-11.  36.  17.]\n",
      " [ 42. -19. -16.]\n",
      " [  0.  22. -15.]]\n",
      "\n",
      "Feature Map: \n",
      "[[ 0. 36. 17.]\n",
      " [42.  0.  0.]\n",
      " [ 0. 22.  0.]]\n",
      "\n"
     ]
    }
   ],
   "source": [
    "input_plane_1, input_plane_2, kernel_1, kernel_2 = create_data()\n",
    "sub_feature_map_1_before_activation = conv(input_plane_1, kernel_1)\n",
    "print('Sub Feature Map 1 before activation: \\n{}\\n'.format(sub_feature_map_1_before_activation))\n",
    "sub_feature_map_2_before_activation = conv(input_plane_2, kernel_2)\n",
    "print('Sub Feature Map 2 before activation: \\n{}\\n'.format(sub_feature_map_2_before_activation))\n",
    "feature_map_before_activation = sub_feature_map_1_before_activation + sub_feature_map_2_before_activation\n",
    "print('Feature Map before activation: \\n{}\\n'.format(feature_map_before_activation))\n",
    "feature_map = relu(feature_map_before_activation)\n",
    "print('Feature Map: \\n{}\\n'.format(feature_map))"
   ]
  }
 ],
 "metadata": {
  "kernelspec": {
   "display_name": "Python 3",
   "language": "python",
   "name": "python3"
  },
  "language_info": {
   "codemirror_mode": {
    "name": "ipython",
    "version": 3
   },
   "file_extension": ".py",
   "mimetype": "text/x-python",
   "name": "python",
   "nbconvert_exporter": "python",
   "pygments_lexer": "ipython3",
   "version": "3.6.2"
  }
 },
 "nbformat": 4,
 "nbformat_minor": 2
}
