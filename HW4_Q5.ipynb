{
 "cells": [
  {
   "cell_type": "code",
   "execution_count": 1,
   "metadata": {},
   "outputs": [],
   "source": [
    "import numpy as np\n",
    "import matplotlib.pyplot as plt\n",
    "import pandas as pd"
   ]
  },
  {
   "cell_type": "code",
   "execution_count": 2,
   "metadata": {},
   "outputs": [],
   "source": [
    "\"\"\"\n",
    "Load UCI ML Iris data\n",
    "Return: data(shape = (150, 4)) and labels(shape = (150, 1)) in numpy array(rank 2)\n",
    "\"\"\"\n",
    "def load_data(classes):\n",
    "    data = pd.read_csv('Iris.csv', index_col=0).as_matrix()\n",
    "    features = data[:, :-1]\n",
    "    labels = data[:, -1].reshape(-1, 1)\n",
    "    for class_id in classes:\n",
    "        labels[labels == class_id[0]] = class_id[1]\n",
    "    return features.astype(np.float32), labels.astype(np.float32)"
   ]
  },
  {
   "cell_type": "code",
   "execution_count": 3,
   "metadata": {},
   "outputs": [],
   "source": [
    "\"\"\"\n",
    "Perform Data Shuffling\n",
    "Return: shuffled features and labels\n",
    "\"\"\"\n",
    "def data_shuffling(features, labels):\n",
    "    shuffle_array = np.random.permutation(features.shape[0])\n",
    "    features = features[shuffle_array]\n",
    "    labels = labels[shuffle_array]\n",
    "    return features, labels"
   ]
  },
  {
   "cell_type": "code",
   "execution_count": 4,
   "metadata": {},
   "outputs": [],
   "source": [
    "\"\"\"\n",
    "Splitting the data into train and test set\n",
    "Variable: ratio = percentage of data for train set\n",
    "Return: train set and test set\n",
    "\"\"\"\n",
    "def data_split(features, labels, ratio=0.7):\n",
    "    train_end_index = np.ceil(features.shape[0] * 0.7).astype(np.int32)\n",
    "    train_features = features[:train_end_index]\n",
    "    train_labels = labels[:train_end_index]\n",
    "    test_features = features[train_end_index:]\n",
    "    test_labels = labels[train_end_index:]\n",
    "    return train_features, train_labels, test_features, test_labels"
   ]
  },
  {
   "cell_type": "code",
   "execution_count": 5,
   "metadata": {},
   "outputs": [],
   "source": [
    "\"\"\"\n",
    "Perform standardization for features\n",
    "Return: standardized features, standard deviation, mean\n",
    "\"\"\"\n",
    "def standardization(features, exist_params=False, std=None, mean=None, colvar=True):\n",
    "    features = features.T if not colvar else features\n",
    "    if not exist_params:\n",
    "        std = np.std(features, axis=0, keepdims=True)\n",
    "        mean = np.mean(features, axis=0, keepdims=True)\n",
    "    standard_features = (features - mean) / std\n",
    "    return standard_features, std, mean"
   ]
  },
  {
   "cell_type": "code",
   "execution_count": 6,
   "metadata": {},
   "outputs": [],
   "source": [
    "\"\"\"\n",
    "Preparation of data, Performing shuffling, splitting, one-hotting\n",
    "\"\"\"\n",
    "def data_preparation(data, labels, classes):\n",
    "    labels = np.eye(len(classes), dtype=np.float32)[np.squeeze(labels).astype(int)]\n",
    "    data, labels = data_shuffling(data, labels)\n",
    "    train_data = np.empty((0, data.shape[1]), dtype=np.float32)\n",
    "    train_labels = np.empty((0, labels.shape[1]), dtype=np.float32)\n",
    "    validation_data = np.empty((0, data.shape[1]), dtype=np.float32)\n",
    "    validation_labels = np.empty((0, labels.shape[1]), dtype=np.float32)\n",
    "    for each_class in classes:\n",
    "        data_class = data[np.argmax(labels, axis=1).astype(np.float32) == float(each_class[1])]\n",
    "        labels_class = labels[np.argmax(labels, axis=1).astype(np.float32) == float(each_class[1])]\n",
    "        a, b, c, d = data_split(data_class, labels_class)\n",
    "        train_data = np.append(train_data, a, axis=0)\n",
    "        train_labels = np.append(train_labels, b, axis=0)\n",
    "        validation_data = np.append(validation_data, c, axis=0)\n",
    "        validation_labels = np.append(validation_labels, d, axis=0)\n",
    "    train_data, train_labels = data_shuffling(train_data, train_labels)\n",
    "    validation_data, validation_labels = data_shuffling(validation_data, validation_labels)\n",
    "    train_data, std, mean = standardization(train_data)\n",
    "    validation_data, _, _ = standardization(validation_data, exist_params=True, std=std, mean=mean)\n",
    "    return train_data, train_labels, validation_data, validation_labels"
   ]
  },
  {
   "cell_type": "code",
   "execution_count": 7,
   "metadata": {},
   "outputs": [],
   "source": [
    "\"\"\"\n",
    "Sigmoid function\n",
    "\"\"\"\n",
    "def sigmoid(z):\n",
    "    return 1 / (1 + np.exp(-z).astype(np.float32))"
   ]
  },
  {
   "cell_type": "code",
   "execution_count": 8,
   "metadata": {},
   "outputs": [],
   "source": [
    "\"\"\"\n",
    "Define the architecture of neural networks\n",
    "\"\"\"\n",
    "def neural_networks(x, w1, w2, b1, b2):\n",
    "    Z1 = np.dot(x, w1) + b1\n",
    "    A1 = sigmoid(Z1)\n",
    "    Z2 = np.dot(A1, w2) + b2\n",
    "    A2 = sigmoid(Z2)\n",
    "    return Z1, A1, Z2, A2"
   ]
  },
  {
   "cell_type": "code",
   "execution_count": 9,
   "metadata": {},
   "outputs": [],
   "source": [
    "\"\"\"\n",
    "Define the cost function MSE\n",
    "\"\"\"\n",
    "def mse(outputs, labels_smooth):\n",
    "    return np.sum(np.sum(np.square((outputs - labels_smooth)) / 2, axis=0) / outputs.shape[0]) / outputs.shape[1]"
   ]
  },
  {
   "cell_type": "code",
   "execution_count": 10,
   "metadata": {},
   "outputs": [],
   "source": [
    "\"\"\"\n",
    "Compute the accuracy\n",
    "\"\"\"\n",
    "def get_accuracy(predictions, ground_truth):\n",
    "    return np.mean(np.squeeze(predictions == ground_truth).astype(np.float32))"
   ]
  },
  {
   "cell_type": "code",
   "execution_count": 11,
   "metadata": {},
   "outputs": [],
   "source": [
    "\"\"\"\n",
    "Training of neural networks\n",
    "\"\"\"\n",
    "def training(train_data, train_labels, validation_data, validation_labels, learning_rate=0.1, epochs=3500):\n",
    "    #Label smoothing#\n",
    "    train_labels_smooth = np.copy(train_labels)\n",
    "    validation_labels_smooth = np.copy(validation_labels)\n",
    "    train_labels_smooth[train_labels_smooth == 1.] = 0.9\n",
    "    train_labels_smooth[train_labels_smooth == 0.] = 0.1\n",
    "    validation_labels_smooth[validation_labels_smooth == 1.] = 0.9\n",
    "    validation_labels_smooth[validation_labels_smooth == 0.] = 0.1\n",
    "    \n",
    "    #Initialize the weights and bias#\n",
    "    w1 = np.random.randn(2, 2).astype(np.float32)\n",
    "    w2 = np.random.randn(2, 2).astype(np.float32)\n",
    "    b1 = np.zeros((1, 2))\n",
    "    b2 = np.zeros((1, 2))\n",
    "    \n",
    "    #Accuracy and cost history#\n",
    "    accs = list()\n",
    "    costs = list()\n",
    "    accs_val = list()\n",
    "    costs_val = list()\n",
    "    \n",
    "    #Save the initial training cost and accuracy#\n",
    "    Z1, A1, Z2, A2 = neural_networks(train_data, w1, w2, b1, b2)\n",
    "    costs.append(mse(A2, train_labels_smooth))\n",
    "    accs.append(get_accuracy(np.argmax(A2, axis=1), np.argmax(train_labels, axis=1)))\n",
    "    \n",
    "    #Save the initial validation cost and accuracy#\n",
    "    Z1, A1, Z2, A2 = neural_networks(validation_data, w1, w2, b1, b2)\n",
    "    costs_val.append(mse(A2, validation_labels_smooth))\n",
    "    accs_val.append(get_accuracy(np.argmax(A2, axis=1), np.argmax(validation_labels, axis=1)))\n",
    "    \n",
    "    #Training#\n",
    "    for i in range(epochs):\n",
    "        #Feed Forward#\n",
    "        Z1, A1, Z2, A2 = neural_networks(train_data, w1, w2, b1, b2)\n",
    "        \n",
    "        #Back Propagation and Update weights, bias#\n",
    "        dZ2 = np.multiply(np.multiply((A2 - train_labels_smooth), A2), (1 - A2))\n",
    "        dZ1 = np.multiply(np.dot(dZ2, w2.T), np.multiply(A1, (1 - A1)))\n",
    "        dw2 = np.dot(A1.T, dZ2) / train_data.shape[0]\n",
    "        dw1 = np.dot(train_data.T, dZ1) / train_data.shape[0]\n",
    "        db2 = np.sum(dZ2, axis=0)  / train_data.shape[0]\n",
    "        db1 = np.sum(dZ1, axis=0) / train_data.shape[0]\n",
    "        w1 = w1 - learning_rate * dw1\n",
    "        w2 = w2 - learning_rate * dw2\n",
    "        b1 = b1 - learning_rate * db1\n",
    "        b2 = b2 - learning_rate * db2\n",
    "        \n",
    "        #Save the initial training cost and accuracy#\n",
    "        Z1, A1, Z2, A2 = neural_networks(train_data, w1, w2, b1, b2)\n",
    "        costs.append(mse(A2, train_labels_smooth))\n",
    "        accs.append(get_accuracy(np.argmax(A2, axis=1), np.argmax(train_labels, axis=1)))\n",
    "\n",
    "        #Save the initial validation cost and accuracy#\n",
    "        Z1, A1, Z2, A2 = neural_networks(validation_data, w1, w2, b1, b2)\n",
    "        costs_val.append(mse(A2, validation_labels_smooth))\n",
    "        accs_val.append(get_accuracy(np.argmax(A2, axis=1), np.argmax(validation_labels, axis=1)))\n",
    "    return w1, w2, b1, b2, costs, accs, costs_val, accs_val"
   ]
  },
  {
   "cell_type": "code",
   "execution_count": 12,
   "metadata": {},
   "outputs": [],
   "source": [
    "\"\"\"\n",
    "Plot the scatter graphs\n",
    "\"\"\"\n",
    "def plot_scatter(features, labels):\n",
    "    plt.plot(features[np.squeeze(labels == float(1))][:, 0], features[np.squeeze(labels == float(1))][:, 1], 'gx', label='Iris-versicolor')\n",
    "    plt.plot(features[np.squeeze(labels == float(2))][:, 0], features[np.squeeze(labels == float(2))][:, 1], 'bx', label='Iris-virginica')\n",
    "    plt.title('Petal Length - Petal Width')\n",
    "    plt.legend(loc='best')\n",
    "    plt.show()"
   ]
  },
  {
   "cell_type": "code",
   "execution_count": 13,
   "metadata": {},
   "outputs": [],
   "source": [
    "\"\"\"\n",
    "Settings\n",
    "\"\"\"\n",
    "classes = [('Iris-setosa', 0), ('Iris-versicolor', 1), ('Iris-virginica', 2)]\n",
    "cross_val_times = 100"
   ]
  },
  {
   "cell_type": "code",
   "execution_count": 14,
   "metadata": {},
   "outputs": [
    {
     "data": {
      "image/png": "[encoded data removed]",
      "text/plain": [
       "<matplotlib.figure.Figure at 0x241bcb72240>"
      ]
     },
     "metadata": {},
     "output_type": "display_data"
    },
    {
     "data": {
      "image/png": "[encoded data removed]",
      "text/plain": [
       "<matplotlib.figure.Figure at 0x241c77923c8>"
      ]
     },
     "metadata": {},
     "output_type": "display_data"
    },
    {
     "name": "stdout",
     "output_type": "stream",
     "text": [
      "Average Accuracy (100 times): 0.9306666558980935\n"
     ]
    }
   ],
   "source": [
    "data, labels = load_data(classes)\n",
    "data = data[np.logical_or(np.squeeze(labels == 1), np.squeeze(labels == 2))][:, 2:]\n",
    "labels = labels[np.logical_or(np.squeeze(labels == 1), np.squeeze(labels == 2))] - 1.\n",
    "classes = [('Iris-versicolor', 0), ('Iris-virginica', 1)]\n",
    "cross_val_acc = 0.\n",
    "for i in range(cross_val_times):\n",
    "    train_data, train_labels, validation_data, validation_labels = data_preparation(data, labels, classes)\n",
    "    w1, w2, b1, b2, costs, accs, costs_val, accs_val = training(train_data, train_labels, validation_data, validation_labels)\n",
    "    cross_val_acc += accs_val[-1] / cross_val_times\n",
    "plt.plot(costs, 'b-', label='train cost')\n",
    "plt.plot(costs_val, 'r-', label='validation cost')\n",
    "plt.title('Cost - Epoch')\n",
    "plt.ylabel('Cost')\n",
    "plt.xlabel('Epoch')\n",
    "plt.legend(loc='best')\n",
    "plt.show()\n",
    "plt.plot(accs, 'b-', label='train accuracy')\n",
    "plt.plot(accs_val, 'r-', label='validation accuracy')\n",
    "plt.title('Accuracy - Epoch')\n",
    "plt.ylabel('Accuracy')\n",
    "plt.xlabel('Epoch')\n",
    "plt.legend(loc='best')\n",
    "plt.show()\n",
    "print('Average Accuracy ({} times): {}'.format(cross_val_times, cross_val_acc))"
   ]
  }
 ],
 "metadata": {
  "kernelspec": {
   "display_name": "Python 3",
   "language": "python",
   "name": "python3"
  },
  "language_info": {
   "codemirror_mode": {
    "name": "ipython",
    "version": 3
   },
   "file_extension": ".py",
   "mimetype": "text/x-python",
   "name": "python",
   "nbconvert_exporter": "python",
   "pygments_lexer": "ipython3",
   "version": "3.6.2"
  }
 },
 "nbformat": 4,
 "nbformat_minor": 2
}
