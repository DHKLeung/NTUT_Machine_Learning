{
 "cells": [
  {
   "cell_type": "code",
   "execution_count": 1,
   "metadata": {},
   "outputs": [],
   "source": [
    "import numpy as np\n",
    "import matplotlib.pyplot as plt\n",
    "import pandas as pd"
   ]
  },
  {
   "cell_type": "code",
   "execution_count": 2,
   "metadata": {},
   "outputs": [],
   "source": [
    "\"\"\"\n",
    "Load UCI ML Iris data\n",
    "Return: data(shape = (150, 4)) and labels(shape = (150, 1)) in numpy array(rank 2)\n",
    "\"\"\"\n",
    "def load_data(classes):\n",
    "    data = pd.read_csv('Iris.csv', index_col=0).as_matrix()\n",
    "    features = data[:, :-1]\n",
    "    labels = data[:, -1].reshape(-1, 1)\n",
    "    for class_id in classes:\n",
    "        labels[labels == class_id[0]] = class_id[1]\n",
    "    return features.astype(np.float32), labels.astype(np.float32)"
   ]
  },
  {
   "cell_type": "code",
   "execution_count": 3,
   "metadata": {},
   "outputs": [],
   "source": [
    "\"\"\"\n",
    "Perform Data Shuffling\n",
    "Return: shuffled features and labels\n",
    "\"\"\"\n",
    "def data_shuffling(features, labels):\n",
    "    shuffle_array = np.random.permutation(features.shape[0])\n",
    "    features = features[shuffle_array]\n",
    "    labels = labels[shuffle_array]\n",
    "    return features, labels"
   ]
  },
  {
   "cell_type": "code",
   "execution_count": 4,
   "metadata": {},
   "outputs": [],
   "source": [
    "\"\"\"\n",
    "Splitting the data into train and test set\n",
    "Variable: ratio = percentage of data for train set\n",
    "Return: train set and test set\n",
    "\"\"\"\n",
    "def data_split(features, labels, ratio=0.7):\n",
    "    train_end_index = np.ceil(features.shape[0] * 0.7).astype(np.int32)\n",
    "    train_features = features[:train_end_index]\n",
    "    train_labels = labels[:train_end_index]\n",
    "    test_features = features[train_end_index:]\n",
    "    test_labels = labels[train_end_index:]\n",
    "    return train_features, train_labels, test_features, test_labels"
   ]
  },
  {
   "cell_type": "code",
   "execution_count": 5,
   "metadata": {},
   "outputs": [],
   "source": [
    "\"\"\"\n",
    "k-NN inferening \n",
    "Variable: k = k-nearest neightbour\n",
    "Return: predictions to inference set\n",
    "\"\"\"\n",
    "def kNN_inference(train_features, train_labels, inf_features, k=3):\n",
    "    \n",
    "    #Properties#\n",
    "    train_data_size = train_features.shape[0]\n",
    "    train_features_size = train_features.shape[1]\n",
    "    inf_data_size = inf_features.shape[0]\n",
    "    \n",
    "    #Define saver of predictions #\n",
    "    predictions = np.empty((inf_features.shape[0], 1))\n",
    "    \n",
    "    #Compute the predictions for all in inference set#\n",
    "    for i in range(inf_data_size):\n",
    "        current_inf = np.tile(inf_features[i].reshape(1, -1), (train_data_size, 1))\n",
    "        euclidean = np.linalg.norm(np.subtract(train_features, current_inf), axis=1)\n",
    "        sort_index = np.argsort(euclidean)\n",
    "        euclidean = euclidean[sort_index]\n",
    "        k_labels = train_labels.reshape(-1)[sort_index][:k]\n",
    "        pred_class, counts = np.unique(k_labels, return_counts=True)\n",
    "        predict = pred_class[np.argmax(counts)]\n",
    "        predictions[i] = predict\n",
    "    return predictions"
   ]
  },
  {
   "cell_type": "code",
   "execution_count": 6,
   "metadata": {},
   "outputs": [],
   "source": [
    "\"\"\"\n",
    "Settings\n",
    "\"\"\"\n",
    "classes = [('Iris-setosa', 0), ('Iris-versicolor', 1), ('Iris-virginica', 2)]\n",
    "cross_val_times = 1000\n",
    "ks = np.arange(1, 16, 2)"
   ]
  },
  {
   "cell_type": "code",
   "execution_count": 7,
   "metadata": {},
   "outputs": [
    {
     "data": {
      "image/png": "[encoded data removed]",
      "text/plain": [
       "<matplotlib.figure.Figure at 0x265ecb69390>"
      ]
     },
     "metadata": {},
     "output_type": "display_data"
    }
   ],
   "source": [
    "features, labels = load_data(classes)\n",
    "features, labels = data_shuffling(features, labels)\n",
    "features, labels, _, _ = data_split(features, labels)\n",
    "records = []\n",
    "for k in ks:\n",
    "    accuracy = 0.\n",
    "    for i in range(cross_val_times):\n",
    "        features, labels = data_shuffling(features, labels)\n",
    "        train_features, train_labels, validation_features, validation_labels = data_split(features, labels)\n",
    "        predictions = kNN_inference(train_features, train_labels, validation_features)\n",
    "        accuracy += np.mean((predictions == validation_labels).astype(np.float32)) / cross_val_times\n",
    "    records.append((k, accuracy))\n",
    "records = np.array(records)\n",
    "plt.plot(records[:, 0], records[:, 1])\n",
    "plt.show()"
   ]
  }
 ],
 "metadata": {
  "kernelspec": {
   "display_name": "Python 3",
   "language": "python",
   "name": "python3"
  },
  "language_info": {
   "codemirror_mode": {
    "name": "ipython",
    "version": 3
   },
   "file_extension": ".py",
   "mimetype": "text/x-python",
   "name": "python",
   "nbconvert_exporter": "python",
   "pygments_lexer": "ipython3",
   "version": "3.6.2"
  }
 },
 "nbformat": 4,
 "nbformat_minor": 2
}
